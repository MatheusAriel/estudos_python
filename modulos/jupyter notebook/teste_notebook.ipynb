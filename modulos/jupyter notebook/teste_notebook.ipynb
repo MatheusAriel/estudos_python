{
 "cells": [
  {
   "cell_type": "code",
   "execution_count": 5,
   "id": "acc73202",
   "metadata": {},
   "outputs": [],
   "source": [
    "list = range(1,11)"
   ]
  },
  {
   "cell_type": "code",
   "execution_count": 6,
   "id": "cb13ee0a",
   "metadata": {},
   "outputs": [
    {
     "name": "stdout",
     "output_type": "stream",
     "text": [
      "Index:1 - Value:1\n",
      "Index:2 - Value:2\n",
      "Index:3 - Value:3\n",
      "Index:4 - Value:4\n",
      "Index:5 - Value:5\n",
      "Index:6 - Value:6\n",
      "Index:7 - Value:7\n",
      "Index:8 - Value:8\n",
      "Index:9 - Value:9\n",
      "Index:10 - Value:10\n"
     ]
    }
   ],
   "source": [
    "for i, v in enumerate(list,1):\n",
    "    print(f'Index:{i} - Value:{v}')\n",
    "    "
   ]
  },
  {
   "cell_type": "markdown",
   "id": "5f9ce664",
   "metadata": {},
   "source": [
    "# eh mais facil fazer assim"
   ]
  },
  {
   "cell_type": "code",
   "execution_count": 7,
   "id": "1f884cee",
   "metadata": {},
   "outputs": [],
   "source": [
    "l1 = list"
   ]
  },
  {
   "cell_type": "code",
   "execution_count": 9,
   "id": "d2a70011",
   "metadata": {},
   "outputs": [
    {
     "data": {
      "text/html": [
       "<p> <strong>Assim também</strong> seria mais facil<p>\n"
      ],
      "text/plain": [
       "<IPython.core.display.HTML object>"
      ]
     },
     "metadata": {},
     "output_type": "display_data"
    }
   ],
   "source": [
    "%%HTML\n",
    "<p> <strong>Assim também</strong> seria mais facil<p>"
   ]
  },
  {
   "cell_type": "code",
   "execution_count": null,
   "id": "133a53ce",
   "metadata": {},
   "outputs": [],
   "source": []
  }
 ],
 "metadata": {
  "kernelspec": {
   "display_name": "Python 3 (ipykernel)",
   "language": "python",
   "name": "python3"
  },
  "language_info": {
   "codemirror_mode": {
    "name": "ipython",
    "version": 3
   },
   "file_extension": ".py",
   "mimetype": "text/x-python",
   "name": "python",
   "nbconvert_exporter": "python",
   "pygments_lexer": "ipython3",
   "version": "3.10.1"
  }
 },
 "nbformat": 4,
 "nbformat_minor": 5
}
